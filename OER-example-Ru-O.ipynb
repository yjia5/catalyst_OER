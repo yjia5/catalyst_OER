{
 "cells": [
  {
   "cell_type": "markdown",
   "id": "b36cf2cb-7788-4c2b-bffa-ae771e33299e",
   "metadata": {},
   "source": [
    "### Step 0: import data"
   ]
  },
  {
   "cell_type": "code",
   "execution_count": 58,
   "id": "2c40bd09-4429-4c4e-b7c5-e8d01d2e2389",
   "metadata": {},
   "outputs": [],
   "source": [
    "energy_folder = \"/work/zeng/yinglu/project/cai/example/Ru-extra\""
   ]
  },
  {
   "cell_type": "code",
   "execution_count": 60,
   "id": "c95deefc-0380-4d03-9ad3-76fa0842af1b",
   "metadata": {},
   "outputs": [],
   "source": [
    "absorbate_file = energy_folder + \"/absorbate.dat\""
   ]
  },
  {
   "cell_type": "code",
   "execution_count": 61,
   "id": "4dbdbe0c-2a87-4838-984a-e05dcf81954d",
   "metadata": {},
   "outputs": [],
   "source": [
    "molecule_file = energy_folder + \"/molecule.dat\""
   ]
  },
  {
   "cell_type": "code",
   "execution_count": 62,
   "id": "40b875c5-ce5f-427d-ac95-1805a41bd3f9",
   "metadata": {},
   "outputs": [],
   "source": [
    "import pandas as pd"
   ]
  },
  {
   "cell_type": "code",
   "execution_count": 63,
   "id": "ff89e1c8-6929-49dd-be5b-7f28a4afdd67",
   "metadata": {},
   "outputs": [],
   "source": [
    "E_absorbate = pd.read_csv(absorbate_file, header=None, names=['absorbate', 'E_internal', 'E_correct'], sep=\" \")"
   ]
  },
  {
   "cell_type": "code",
   "execution_count": 64,
   "id": "88744531-f280-4971-9b61-0dfb6f2823fc",
   "metadata": {},
   "outputs": [],
   "source": [
    "E_absorbate.index = E_absorbate[\"absorbate\"]"
   ]
  },
  {
   "cell_type": "code",
   "execution_count": 65,
   "id": "adab1c11-827b-4c57-9b2f-7a743009e29e",
   "metadata": {},
   "outputs": [
    {
     "data": {
      "text/html": [
       "<div>\n",
       "<style scoped>\n",
       "    .dataframe tbody tr th:only-of-type {\n",
       "        vertical-align: middle;\n",
       "    }\n",
       "\n",
       "    .dataframe tbody tr th {\n",
       "        vertical-align: top;\n",
       "    }\n",
       "\n",
       "    .dataframe thead th {\n",
       "        text-align: right;\n",
       "    }\n",
       "</style>\n",
       "<table border=\"1\" class=\"dataframe\">\n",
       "  <thead>\n",
       "    <tr style=\"text-align: right;\">\n",
       "      <th></th>\n",
       "      <th>absorbate</th>\n",
       "      <th>E_internal</th>\n",
       "      <th>E_correct</th>\n",
       "    </tr>\n",
       "    <tr>\n",
       "      <th>absorbate</th>\n",
       "      <th></th>\n",
       "      <th></th>\n",
       "      <th></th>\n",
       "    </tr>\n",
       "  </thead>\n",
       "  <tbody>\n",
       "    <tr>\n",
       "      <th>Surface_O1</th>\n",
       "      <td>Surface_O1</td>\n",
       "      <td>-356.50144</td>\n",
       "      <td>0.101688</td>\n",
       "    </tr>\n",
       "    <tr>\n",
       "      <th>Surface_OH1</th>\n",
       "      <td>Surface_OH1</td>\n",
       "      <td>-361.29255</td>\n",
       "      <td>0.382034</td>\n",
       "    </tr>\n",
       "    <tr>\n",
       "      <th>Surface_OOH1</th>\n",
       "      <td>Surface_OOH1</td>\n",
       "      <td>-365.74027</td>\n",
       "      <td>0.380738</td>\n",
       "    </tr>\n",
       "    <tr>\n",
       "      <th>Surface</th>\n",
       "      <td>Surface</td>\n",
       "      <td>-350.81581</td>\n",
       "      <td>0.000000</td>\n",
       "    </tr>\n",
       "  </tbody>\n",
       "</table>\n",
       "</div>"
      ],
      "text/plain": [
       "                 absorbate  E_internal  E_correct\n",
       "absorbate                                        \n",
       "Surface_O1      Surface_O1  -356.50144   0.101688\n",
       "Surface_OH1    Surface_OH1  -361.29255   0.382034\n",
       "Surface_OOH1  Surface_OOH1  -365.74027   0.380738\n",
       "Surface            Surface  -350.81581   0.000000"
      ]
     },
     "execution_count": 65,
     "metadata": {},
     "output_type": "execute_result"
    }
   ],
   "source": [
    "E_absorbate"
   ]
  },
  {
   "cell_type": "code",
   "execution_count": 66,
   "id": "cd9b2cac-48cf-4282-a3c5-61f52a8ef5b3",
   "metadata": {},
   "outputs": [],
   "source": [
    "E_absorbate[\"E_Gibbs\"] = E_absorbate[\"E_internal\"] + E_absorbate[\"E_correct\"]"
   ]
  },
  {
   "cell_type": "code",
   "execution_count": 67,
   "id": "106a54f2-42a1-4a2b-8677-cca59d2cd048",
   "metadata": {},
   "outputs": [
    {
     "data": {
      "text/html": [
       "<div>\n",
       "<style scoped>\n",
       "    .dataframe tbody tr th:only-of-type {\n",
       "        vertical-align: middle;\n",
       "    }\n",
       "\n",
       "    .dataframe tbody tr th {\n",
       "        vertical-align: top;\n",
       "    }\n",
       "\n",
       "    .dataframe thead th {\n",
       "        text-align: right;\n",
       "    }\n",
       "</style>\n",
       "<table border=\"1\" class=\"dataframe\">\n",
       "  <thead>\n",
       "    <tr style=\"text-align: right;\">\n",
       "      <th></th>\n",
       "      <th>absorbate</th>\n",
       "      <th>E_internal</th>\n",
       "      <th>E_correct</th>\n",
       "      <th>E_Gibbs</th>\n",
       "    </tr>\n",
       "    <tr>\n",
       "      <th>absorbate</th>\n",
       "      <th></th>\n",
       "      <th></th>\n",
       "      <th></th>\n",
       "      <th></th>\n",
       "    </tr>\n",
       "  </thead>\n",
       "  <tbody>\n",
       "    <tr>\n",
       "      <th>Surface_O1</th>\n",
       "      <td>Surface_O1</td>\n",
       "      <td>-356.50144</td>\n",
       "      <td>0.101688</td>\n",
       "      <td>-356.399752</td>\n",
       "    </tr>\n",
       "    <tr>\n",
       "      <th>Surface_OH1</th>\n",
       "      <td>Surface_OH1</td>\n",
       "      <td>-361.29255</td>\n",
       "      <td>0.382034</td>\n",
       "      <td>-360.910516</td>\n",
       "    </tr>\n",
       "    <tr>\n",
       "      <th>Surface_OOH1</th>\n",
       "      <td>Surface_OOH1</td>\n",
       "      <td>-365.74027</td>\n",
       "      <td>0.380738</td>\n",
       "      <td>-365.359532</td>\n",
       "    </tr>\n",
       "    <tr>\n",
       "      <th>Surface</th>\n",
       "      <td>Surface</td>\n",
       "      <td>-350.81581</td>\n",
       "      <td>0.000000</td>\n",
       "      <td>-350.815810</td>\n",
       "    </tr>\n",
       "  </tbody>\n",
       "</table>\n",
       "</div>"
      ],
      "text/plain": [
       "                 absorbate  E_internal  E_correct     E_Gibbs\n",
       "absorbate                                                    \n",
       "Surface_O1      Surface_O1  -356.50144   0.101688 -356.399752\n",
       "Surface_OH1    Surface_OH1  -361.29255   0.382034 -360.910516\n",
       "Surface_OOH1  Surface_OOH1  -365.74027   0.380738 -365.359532\n",
       "Surface            Surface  -350.81581   0.000000 -350.815810"
      ]
     },
     "execution_count": 67,
     "metadata": {},
     "output_type": "execute_result"
    }
   ],
   "source": [
    "E_absorbate"
   ]
  },
  {
   "cell_type": "code",
   "execution_count": 68,
   "id": "37715060-e695-4f49-94ec-dd9e2cbf67d7",
   "metadata": {},
   "outputs": [],
   "source": [
    "E_molecule = pd.read_csv(molecule_file, header=None, names=['molecule', 'E_internal', 'E_correct'], sep=\" \")"
   ]
  },
  {
   "cell_type": "code",
   "execution_count": 69,
   "id": "ae031f98-9057-4af9-9854-3936b23ecc09",
   "metadata": {},
   "outputs": [],
   "source": [
    "E_molecule.index = E_molecule[\"molecule\"]"
   ]
  },
  {
   "cell_type": "code",
   "execution_count": 70,
   "id": "e4e70acc-5535-47f2-96c8-98959d45cf1f",
   "metadata": {},
   "outputs": [
    {
     "data": {
      "text/html": [
       "<div>\n",
       "<style scoped>\n",
       "    .dataframe tbody tr th:only-of-type {\n",
       "        vertical-align: middle;\n",
       "    }\n",
       "\n",
       "    .dataframe tbody tr th {\n",
       "        vertical-align: top;\n",
       "    }\n",
       "\n",
       "    .dataframe thead th {\n",
       "        text-align: right;\n",
       "    }\n",
       "</style>\n",
       "<table border=\"1\" class=\"dataframe\">\n",
       "  <thead>\n",
       "    <tr style=\"text-align: right;\">\n",
       "      <th></th>\n",
       "      <th>molecule</th>\n",
       "      <th>E_internal</th>\n",
       "      <th>E_correct</th>\n",
       "    </tr>\n",
       "    <tr>\n",
       "      <th>molecule</th>\n",
       "      <th></th>\n",
       "      <th></th>\n",
       "      <th></th>\n",
       "    </tr>\n",
       "  </thead>\n",
       "  <tbody>\n",
       "    <tr>\n",
       "      <th>H2</th>\n",
       "      <td>H2</td>\n",
       "      <td>-6.772417</td>\n",
       "      <td>-0.044675</td>\n",
       "    </tr>\n",
       "    <tr>\n",
       "      <th>H2O</th>\n",
       "      <td>H2O</td>\n",
       "      <td>-14.234034</td>\n",
       "      <td>0.086938</td>\n",
       "    </tr>\n",
       "  </tbody>\n",
       "</table>\n",
       "</div>"
      ],
      "text/plain": [
       "         molecule  E_internal  E_correct\n",
       "molecule                                \n",
       "H2             H2   -6.772417  -0.044675\n",
       "H2O           H2O  -14.234034   0.086938"
      ]
     },
     "execution_count": 70,
     "metadata": {},
     "output_type": "execute_result"
    }
   ],
   "source": [
    "E_molecule"
   ]
  },
  {
   "cell_type": "code",
   "execution_count": 71,
   "id": "af774283-cf94-479d-8024-2b065cb06fb5",
   "metadata": {},
   "outputs": [],
   "source": [
    "E_molecule[\"E_Gibbs\"] = E_molecule[\"E_internal\"] + E_molecule[\"E_correct\"]"
   ]
  },
  {
   "cell_type": "code",
   "execution_count": 72,
   "id": "dd06e2a3-ee8e-4638-ad3a-e98c606fa135",
   "metadata": {},
   "outputs": [
    {
     "data": {
      "text/html": [
       "<div>\n",
       "<style scoped>\n",
       "    .dataframe tbody tr th:only-of-type {\n",
       "        vertical-align: middle;\n",
       "    }\n",
       "\n",
       "    .dataframe tbody tr th {\n",
       "        vertical-align: top;\n",
       "    }\n",
       "\n",
       "    .dataframe thead th {\n",
       "        text-align: right;\n",
       "    }\n",
       "</style>\n",
       "<table border=\"1\" class=\"dataframe\">\n",
       "  <thead>\n",
       "    <tr style=\"text-align: right;\">\n",
       "      <th></th>\n",
       "      <th>molecule</th>\n",
       "      <th>E_internal</th>\n",
       "      <th>E_correct</th>\n",
       "      <th>E_Gibbs</th>\n",
       "    </tr>\n",
       "    <tr>\n",
       "      <th>molecule</th>\n",
       "      <th></th>\n",
       "      <th></th>\n",
       "      <th></th>\n",
       "      <th></th>\n",
       "    </tr>\n",
       "  </thead>\n",
       "  <tbody>\n",
       "    <tr>\n",
       "      <th>H2</th>\n",
       "      <td>H2</td>\n",
       "      <td>-6.772417</td>\n",
       "      <td>-0.044675</td>\n",
       "      <td>-6.817092</td>\n",
       "    </tr>\n",
       "    <tr>\n",
       "      <th>H2O</th>\n",
       "      <td>H2O</td>\n",
       "      <td>-14.234034</td>\n",
       "      <td>0.086938</td>\n",
       "      <td>-14.147096</td>\n",
       "    </tr>\n",
       "  </tbody>\n",
       "</table>\n",
       "</div>"
      ],
      "text/plain": [
       "         molecule  E_internal  E_correct    E_Gibbs\n",
       "molecule                                           \n",
       "H2             H2   -6.772417  -0.044675  -6.817092\n",
       "H2O           H2O  -14.234034   0.086938 -14.147096"
      ]
     },
     "execution_count": 72,
     "metadata": {},
     "output_type": "execute_result"
    }
   ],
   "source": [
    "E_molecule"
   ]
  },
  {
   "cell_type": "code",
   "execution_count": 73,
   "id": "ba9eaa86-117f-4233-8dbe-43edeb9f7108",
   "metadata": {},
   "outputs": [],
   "source": [
    "E_substrate=E_absorbate.loc[\"Surface\", \"E_Gibbs\"]"
   ]
  },
  {
   "cell_type": "code",
   "execution_count": 74,
   "id": "27624aee-95d2-4961-9c8a-4f1908df55b5",
   "metadata": {},
   "outputs": [
    {
     "data": {
      "text/plain": [
       "-350.81581"
      ]
     },
     "execution_count": 74,
     "metadata": {},
     "output_type": "execute_result"
    }
   ],
   "source": [
    "E_substrate"
   ]
  },
  {
   "cell_type": "code",
   "execution_count": 75,
   "id": "8d2e156f-e613-404c-8bad-95d85ff9c379",
   "metadata": {},
   "outputs": [
    {
     "data": {
      "text/plain": [
       "-4.920000000000002"
      ]
     },
     "execution_count": 75,
     "metadata": {},
     "output_type": "execute_result"
    }
   ],
   "source": [
    "2*-14.22-2*-6.8-(-9.92)"
   ]
  },
  {
   "cell_type": "markdown",
   "id": "553b6e84-3c82-4fa6-a698-845c9db23980",
   "metadata": {},
   "source": [
    "### Step 1: Calculate G for each intermediate"
   ]
  },
  {
   "cell_type": "code",
   "execution_count": 76,
   "id": "61cee01b-cf9c-4de6-95a5-ce46eff6084d",
   "metadata": {},
   "outputs": [],
   "source": [
    "E_H2 = E_molecule.loc[\"H2\",\"E_Gibbs\"]"
   ]
  },
  {
   "cell_type": "code",
   "execution_count": 77,
   "id": "e245a612-b063-4420-974d-2fc4f9694651",
   "metadata": {},
   "outputs": [],
   "source": [
    "# using the thermal enthalpy of -4.92 to calculate the O2's Gibbs energy\n",
    "E_O2 = 2*E_molecule.loc[\"H2O\",\"E_Gibbs\"]-2*E_molecule.loc[\"H2\",\"E_Gibbs\"]-(-4.92)"
   ]
  },
  {
   "cell_type": "code",
   "execution_count": 78,
   "id": "987e4f13-5ea4-429f-8712-ddc672873c68",
   "metadata": {},
   "outputs": [
    {
     "data": {
      "text/plain": [
       "-9.740008999999999"
      ]
     },
     "execution_count": 78,
     "metadata": {},
     "output_type": "execute_result"
    }
   ],
   "source": [
    "E_O2"
   ]
  },
  {
   "cell_type": "code",
   "execution_count": 79,
   "id": "a4be6399-ccb1-4c8f-bce1-c0d340e681c6",
   "metadata": {},
   "outputs": [],
   "source": [
    "E_H2O = E_molecule.loc[\"H2O\",\"E_Gibbs\"]"
   ]
  },
  {
   "cell_type": "markdown",
   "id": "5eb8ad3c-fb10-48d1-8ca4-108c4c931da5",
   "metadata": {},
   "source": [
    "# \\Delta E"
   ]
  },
  {
   "cell_type": "code",
   "execution_count": 80,
   "id": "5274291f-5805-4275-b3e1-e5bfdc531330",
   "metadata": {},
   "outputs": [],
   "source": [
    "E_substrate_H2O = E_substrate + 2*E_H2O"
   ]
  },
  {
   "cell_type": "code",
   "execution_count": 81,
   "id": "a881e5b4-29a6-4179-818c-741b121d41d8",
   "metadata": {},
   "outputs": [
    {
     "data": {
      "text/plain": [
       "-379.110002"
      ]
     },
     "execution_count": 81,
     "metadata": {},
     "output_type": "execute_result"
    }
   ],
   "source": [
    "E_substrate_H2O"
   ]
  },
  {
   "cell_type": "code",
   "execution_count": 82,
   "id": "37d75098-fa5a-42c9-947a-ed4669828c5a",
   "metadata": {},
   "outputs": [
    {
     "data": {
      "text/html": [
       "<div>\n",
       "<style scoped>\n",
       "    .dataframe tbody tr th:only-of-type {\n",
       "        vertical-align: middle;\n",
       "    }\n",
       "\n",
       "    .dataframe tbody tr th {\n",
       "        vertical-align: top;\n",
       "    }\n",
       "\n",
       "    .dataframe thead th {\n",
       "        text-align: right;\n",
       "    }\n",
       "</style>\n",
       "<table border=\"1\" class=\"dataframe\">\n",
       "  <thead>\n",
       "    <tr style=\"text-align: right;\">\n",
       "      <th></th>\n",
       "      <th>absorbate</th>\n",
       "      <th>E_internal</th>\n",
       "      <th>E_correct</th>\n",
       "      <th>E_Gibbs</th>\n",
       "    </tr>\n",
       "    <tr>\n",
       "      <th>absorbate</th>\n",
       "      <th></th>\n",
       "      <th></th>\n",
       "      <th></th>\n",
       "      <th></th>\n",
       "    </tr>\n",
       "  </thead>\n",
       "  <tbody>\n",
       "    <tr>\n",
       "      <th>Surface_O1</th>\n",
       "      <td>Surface_O1</td>\n",
       "      <td>-356.50144</td>\n",
       "      <td>0.101688</td>\n",
       "      <td>-356.399752</td>\n",
       "    </tr>\n",
       "    <tr>\n",
       "      <th>Surface_OH1</th>\n",
       "      <td>Surface_OH1</td>\n",
       "      <td>-361.29255</td>\n",
       "      <td>0.382034</td>\n",
       "      <td>-360.910516</td>\n",
       "    </tr>\n",
       "    <tr>\n",
       "      <th>Surface_OOH1</th>\n",
       "      <td>Surface_OOH1</td>\n",
       "      <td>-365.74027</td>\n",
       "      <td>0.380738</td>\n",
       "      <td>-365.359532</td>\n",
       "    </tr>\n",
       "    <tr>\n",
       "      <th>Surface</th>\n",
       "      <td>Surface</td>\n",
       "      <td>-350.81581</td>\n",
       "      <td>0.000000</td>\n",
       "      <td>-350.815810</td>\n",
       "    </tr>\n",
       "  </tbody>\n",
       "</table>\n",
       "</div>"
      ],
      "text/plain": [
       "                 absorbate  E_internal  E_correct     E_Gibbs\n",
       "absorbate                                                    \n",
       "Surface_O1      Surface_O1  -356.50144   0.101688 -356.399752\n",
       "Surface_OH1    Surface_OH1  -361.29255   0.382034 -360.910516\n",
       "Surface_OOH1  Surface_OOH1  -365.74027   0.380738 -365.359532\n",
       "Surface            Surface  -350.81581   0.000000 -350.815810"
      ]
     },
     "execution_count": 82,
     "metadata": {},
     "output_type": "execute_result"
    }
   ],
   "source": [
    "E_absorbate"
   ]
  },
  {
   "cell_type": "code",
   "execution_count": 83,
   "id": "864d8857-d704-45de-96d8-11a4469be8a0",
   "metadata": {},
   "outputs": [],
   "source": [
    "E_absorbate.loc[\"Surface_O1\", \"E_Gibbs_relative\"] = E_absorbate.loc[\"Surface_O1\",\"E_Gibbs\"]  + E_H2 + E_H2O - E_substrate_H2O"
   ]
  },
  {
   "cell_type": "code",
   "execution_count": 84,
   "id": "ca8dae49-8904-4add-84c2-f9aef0d27368",
   "metadata": {},
   "outputs": [],
   "source": [
    "#E_absorbate.loc[\"11H\", \"E_Gibbs_relative\"] = E_absorbate.loc[\"11H\",\"E_Gibbs\"] + (E_H + E_O + E_H2O) "
   ]
  },
  {
   "cell_type": "code",
   "execution_count": 85,
   "id": "0645a6ea-65db-49da-8bc1-6dc33e1750e4",
   "metadata": {},
   "outputs": [],
   "source": [
    "E_absorbate.loc[\"Surface_OH1\", \"E_Gibbs_relative\"] = E_absorbate.loc[\"Surface_OH1\",\"E_Gibbs\"] + (1.0/2.0*E_H2 )+E_H2O - E_substrate_H2O"
   ]
  },
  {
   "cell_type": "code",
   "execution_count": 86,
   "id": "d7667d46-83c5-435b-ae75-9f2f3b2f53f8",
   "metadata": {},
   "outputs": [],
   "source": [
    "E_absorbate.loc[\"Surface_OOH1\", \"E_Gibbs_relative\"] = E_absorbate.loc[\"Surface_OOH1\",\"E_Gibbs\"] + (3.0/2.0*E_H2) - E_substrate_H2O"
   ]
  },
  {
   "cell_type": "code",
   "execution_count": 87,
   "id": "3394dc8a-dc24-4b6b-a4d9-912e11b8d693",
   "metadata": {},
   "outputs": [],
   "source": [
    "E_substrate_H2O_final = E_substrate + 2*E_H2+ E_O2 - E_substrate_H2O"
   ]
  },
  {
   "cell_type": "code",
   "execution_count": 88,
   "id": "2da28988-701b-4a09-991d-bd45b38457f1",
   "metadata": {},
   "outputs": [
    {
     "data": {
      "text/plain": [
       "4.920000000000016"
      ]
     },
     "execution_count": 88,
     "metadata": {},
     "output_type": "execute_result"
    }
   ],
   "source": [
    "E_substrate_H2O_final"
   ]
  },
  {
   "cell_type": "code",
   "execution_count": 89,
   "id": "251377aa-ede4-420b-997c-5a5366053116",
   "metadata": {},
   "outputs": [
    {
     "data": {
      "text/html": [
       "<div>\n",
       "<style scoped>\n",
       "    .dataframe tbody tr th:only-of-type {\n",
       "        vertical-align: middle;\n",
       "    }\n",
       "\n",
       "    .dataframe tbody tr th {\n",
       "        vertical-align: top;\n",
       "    }\n",
       "\n",
       "    .dataframe thead th {\n",
       "        text-align: right;\n",
       "    }\n",
       "</style>\n",
       "<table border=\"1\" class=\"dataframe\">\n",
       "  <thead>\n",
       "    <tr style=\"text-align: right;\">\n",
       "      <th></th>\n",
       "      <th>absorbate</th>\n",
       "      <th>E_internal</th>\n",
       "      <th>E_correct</th>\n",
       "      <th>E_Gibbs</th>\n",
       "      <th>E_Gibbs_relative</th>\n",
       "    </tr>\n",
       "    <tr>\n",
       "      <th>absorbate</th>\n",
       "      <th></th>\n",
       "      <th></th>\n",
       "      <th></th>\n",
       "      <th></th>\n",
       "      <th></th>\n",
       "    </tr>\n",
       "  </thead>\n",
       "  <tbody>\n",
       "    <tr>\n",
       "      <th>Surface_O1</th>\n",
       "      <td>Surface_O1</td>\n",
       "      <td>-356.50144</td>\n",
       "      <td>0.101688</td>\n",
       "      <td>-356.399752</td>\n",
       "      <td>1.746063</td>\n",
       "    </tr>\n",
       "    <tr>\n",
       "      <th>Surface_OH1</th>\n",
       "      <td>Surface_OH1</td>\n",
       "      <td>-361.29255</td>\n",
       "      <td>0.382034</td>\n",
       "      <td>-360.910516</td>\n",
       "      <td>0.643844</td>\n",
       "    </tr>\n",
       "    <tr>\n",
       "      <th>Surface_OOH1</th>\n",
       "      <td>Surface_OOH1</td>\n",
       "      <td>-365.74027</td>\n",
       "      <td>0.380738</td>\n",
       "      <td>-365.359532</td>\n",
       "      <td>3.524833</td>\n",
       "    </tr>\n",
       "    <tr>\n",
       "      <th>Surface</th>\n",
       "      <td>Surface</td>\n",
       "      <td>-350.81581</td>\n",
       "      <td>0.000000</td>\n",
       "      <td>-350.815810</td>\n",
       "      <td>NaN</td>\n",
       "    </tr>\n",
       "  </tbody>\n",
       "</table>\n",
       "</div>"
      ],
      "text/plain": [
       "                 absorbate  E_internal  E_correct     E_Gibbs   \n",
       "absorbate                                                       \n",
       "Surface_O1      Surface_O1  -356.50144   0.101688 -356.399752  \\\n",
       "Surface_OH1    Surface_OH1  -361.29255   0.382034 -360.910516   \n",
       "Surface_OOH1  Surface_OOH1  -365.74027   0.380738 -365.359532   \n",
       "Surface            Surface  -350.81581   0.000000 -350.815810   \n",
       "\n",
       "              E_Gibbs_relative  \n",
       "absorbate                       \n",
       "Surface_O1            1.746063  \n",
       "Surface_OH1           0.643844  \n",
       "Surface_OOH1          3.524833  \n",
       "Surface                    NaN  "
      ]
     },
     "execution_count": 89,
     "metadata": {},
     "output_type": "execute_result"
    }
   ],
   "source": [
    "E_absorbate"
   ]
  },
  {
   "cell_type": "code",
   "execution_count": 90,
   "id": "f2cd2510-ed21-4a33-b813-f55ad4fd5dcf",
   "metadata": {},
   "outputs": [
    {
     "data": {
      "text/plain": [
       "0.5487702499999796"
      ]
     },
     "execution_count": 90,
     "metadata": {},
     "output_type": "execute_result"
    }
   ],
   "source": [
    "E_absorbate.loc[\"Surface_OOH1\", \"E_Gibbs_relative\"]-E_absorbate.loc[\"Surface_O1\", \"E_Gibbs_relative\"]-1.23"
   ]
  },
  {
   "cell_type": "code",
   "execution_count": 91,
   "id": "5f0d13d9-6ba2-47c9-9e7d-11a9606f0a90",
   "metadata": {},
   "outputs": [
    {
     "data": {
      "text/plain": [
       "1.7787702499999796"
      ]
     },
     "execution_count": 91,
     "metadata": {},
     "output_type": "execute_result"
    }
   ],
   "source": [
    "E_absorbate.loc[\"Surface_OOH1\", \"E_Gibbs_relative\"]-E_absorbate.loc[\"Surface_O1\", \"E_Gibbs_relative\"]"
   ]
  },
  {
   "cell_type": "code",
   "execution_count": 92,
   "id": "1ee208ad-74b8-4315-92a6-d62269f698f1",
   "metadata": {},
   "outputs": [
    {
     "data": {
      "text/plain": [
       "2.880988500000001"
      ]
     },
     "execution_count": 92,
     "metadata": {},
     "output_type": "execute_result"
    }
   ],
   "source": [
    "E_absorbate.loc[\"Surface_OOH1\", \"E_Gibbs_relative\"]-E_absorbate.loc[\"Surface_OH1\", \"E_Gibbs_relative\"]"
   ]
  },
  {
   "cell_type": "markdown",
   "id": "fc055ede-6c87-4649-96e6-9977e9bb082c",
   "metadata": {},
   "source": [
    "### Step 2: plot figures"
   ]
  },
  {
   "cell_type": "code",
   "execution_count": 93,
   "id": "88a4186e-de0c-40fd-85e9-726444b1acbf",
   "metadata": {},
   "outputs": [],
   "source": [
    "import matplotlib.pyplot as plt\n",
    "from energydiagram import ED\n",
    "diagram = ED()"
   ]
  },
  {
   "cell_type": "code",
   "execution_count": 94,
   "id": "3a11f174-23ab-4b69-81e9-d1ca840f0ff4",
   "metadata": {},
   "outputs": [],
   "source": [
    "diagram.add_level(0,'*', top_text='')"
   ]
  },
  {
   "cell_type": "code",
   "execution_count": 95,
   "id": "dd2fd58e-ad87-4289-87ff-74cbe3aa736c",
   "metadata": {},
   "outputs": [],
   "source": [
    "diagram.add_level(E_absorbate.loc[\"Surface_OH1\", \"E_Gibbs_relative\"],'*OH', top_text='')"
   ]
  },
  {
   "cell_type": "code",
   "execution_count": 96,
   "id": "5dca1586-6f27-49c6-9175-5f79d88d1649",
   "metadata": {},
   "outputs": [],
   "source": [
    "diagram.add_level(E_absorbate.loc[\"Surface_O1\", \"E_Gibbs_relative\"],'*O', top_text='')"
   ]
  },
  {
   "cell_type": "code",
   "execution_count": 97,
   "id": "2ba360d0-21dc-4ae1-b17c-a139eec28c78",
   "metadata": {},
   "outputs": [],
   "source": [
    "diagram.add_level(E_absorbate.loc[\"Surface_OOH1\", \"E_Gibbs_relative\"],'*OOH', top_text='')"
   ]
  },
  {
   "cell_type": "code",
   "execution_count": 98,
   "id": "134dbbf2-db3c-4205-8adb-817e8a372955",
   "metadata": {},
   "outputs": [],
   "source": [
    "diagram.add_level(E_substrate_H2O_final,'* + O2', top_text='')"
   ]
  },
  {
   "cell_type": "code",
   "execution_count": 99,
   "id": "4a32d15e-bd1c-4a8a-9675-d44bf016aa42",
   "metadata": {},
   "outputs": [
    {
     "data": {
      "image/png": "[encoded data removed]",
      "text/plain": [
       "<Figure size 640x480 with 1 Axes>"
      ]
     },
     "metadata": {},
     "output_type": "display_data"
    }
   ],
   "source": [
    "diagram.plot(show_IDs=True)"
   ]
  },
  {
   "cell_type": "code",
   "execution_count": 100,
   "id": "698216dd-44c2-4468-a707-b4f5f1c9efab",
   "metadata": {},
   "outputs": [],
   "source": [
    "diagram.add_link(0,1)\n",
    "diagram.add_link(1,2)\n",
    "diagram.add_link(2,3)\n",
    "diagram.add_link(3,4)"
   ]
  },
  {
   "cell_type": "code",
   "execution_count": 101,
   "id": "8b0f1733-dbbe-4139-950b-af9ce1292cf1",
   "metadata": {},
   "outputs": [
    {
     "data": {
      "image/png": "[encoded data removed]",
      "text/plain": [
       "<Figure size 640x480 with 1 Axes>"
      ]
     },
     "metadata": {},
     "output_type": "display_data"
    }
   ],
   "source": [
    "diagram.plot(ylabel=\"Energy / eV\")"
   ]
  },
  {
   "cell_type": "code",
   "execution_count": 102,
   "id": "0774648b-6d29-474d-8f68-c7d25fc24815",
   "metadata": {},
   "outputs": [],
   "source": [
    "diagram.fig.savefig(energy_folder + \"/SAC_OER_Pt-O.png\")"
   ]
  },
  {
   "cell_type": "code",
   "execution_count": 103,
   "id": "b31e0905-63e0-442b-90ac-6ba86d7a4b95",
   "metadata": {},
   "outputs": [],
   "source": [
    "### Step 3: add electric field"
   ]
  },
  {
   "cell_type": "code",
   "execution_count": 104,
   "id": "fc9b2f47-f07c-4faf-886e-09ba1bb0576f",
   "metadata": {},
   "outputs": [],
   "source": [
    "import matplotlib.pyplot as plt\n",
    "from energydiagram import ED\n",
    "diagram = ED()"
   ]
  },
  {
   "cell_type": "code",
   "execution_count": 105,
   "id": "3d871d6b-72c0-4f40-b605-0498dd068ab4",
   "metadata": {},
   "outputs": [],
   "source": [
    "diagram.add_level(0,'*', top_text='')"
   ]
  },
  {
   "cell_type": "code",
   "execution_count": 106,
   "id": "aa7bff45-6804-4662-812e-ade5246119ed",
   "metadata": {},
   "outputs": [],
   "source": [
    "diagram.add_level(E_absorbate.loc[\"Surface_OH1\", \"E_Gibbs_relative\"]-1.23,'*OH', top_text='')"
   ]
  },
  {
   "cell_type": "code",
   "execution_count": 107,
   "id": "5be20391-499e-4166-ab36-e4bad4aa0df2",
   "metadata": {},
   "outputs": [],
   "source": [
    "diagram.add_level(E_absorbate.loc[\"Surface_O1\", \"E_Gibbs_relative\"]-1.23*2,'*O', top_text='')"
   ]
  },
  {
   "cell_type": "code",
   "execution_count": 108,
   "id": "b245294e-af5a-471b-87e5-345353ad77bc",
   "metadata": {},
   "outputs": [],
   "source": [
    "diagram.add_level(E_absorbate.loc[\"Surface_OOH1\", \"E_Gibbs_relative\"]-1.23*3,'*OOH', top_text='')"
   ]
  },
  {
   "cell_type": "code",
   "execution_count": 109,
   "id": "5b278f0d-fd21-4fd8-b937-d1e8d0d165b2",
   "metadata": {},
   "outputs": [],
   "source": [
    "diagram.add_level(E_substrate_H2O_final-1.23*4,'* + O2', top_text='')"
   ]
  },
  {
   "cell_type": "code",
   "execution_count": 110,
   "id": "175c9342-a707-465f-9a9e-6897a0263be4",
   "metadata": {},
   "outputs": [
    {
     "data": {
      "image/png": "[encoded data removed]",
      "text/plain": [
       "<Figure size 640x480 with 1 Axes>"
      ]
     },
     "metadata": {},
     "output_type": "display_data"
    }
   ],
   "source": [
    "diagram.plot(show_IDs=True)"
   ]
  },
  {
   "cell_type": "code",
   "execution_count": 111,
   "id": "a14e62b8-b7e7-4632-afce-9007d4687e84",
   "metadata": {},
   "outputs": [],
   "source": [
    "diagram.add_link(0,1)\n",
    "diagram.add_link(1,2)\n",
    "diagram.add_link(2,3)\n",
    "diagram.add_link(3,4)"
   ]
  },
  {
   "cell_type": "code",
   "execution_count": 112,
   "id": "b77f9dec-0449-4068-88b6-cf9ddd62416d",
   "metadata": {},
   "outputs": [
    {
     "data": {
      "image/png": "[encoded data removed]",
      "text/plain": [
       "<Figure size 640x480 with 1 Axes>"
      ]
     },
     "metadata": {},
     "output_type": "display_data"
    }
   ],
   "source": [
    "diagram.plot(ylabel=\"Energy / eV\")"
   ]
  },
  {
   "cell_type": "code",
   "execution_count": 113,
   "id": "6291bd2e-c155-4374-aa5b-7fe5b64cfb74",
   "metadata": {},
   "outputs": [],
   "source": [
    "diagram.fig.savefig(energy_folder + \"/SAC_OER_Pt-O_over_p.png\")"
   ]
  },
  {
   "cell_type": "code",
   "execution_count": null,
   "id": "fe34f895-66c3-4b14-b029-ad9567fea404",
   "metadata": {},
   "outputs": [],
   "source": []
  }
 ],
 "metadata": {
  "kernelspec": {
   "display_name": "Python (yinglu-deepmd-gpu)",
   "language": "python",
   "name": "yinglu-deepmd-gpu"
  },
  "language_info": {
   "codemirror_mode": {
    "name": "ipython",
    "version": 3
   },
   "file_extension": ".py",
   "mimetype": "text/x-python",
   "name": "python",
   "nbconvert_exporter": "python",
   "pygments_lexer": "ipython3",
   "version": "3.9.9"
  }
 },
 "nbformat": 4,
 "nbformat_minor": 5
}
